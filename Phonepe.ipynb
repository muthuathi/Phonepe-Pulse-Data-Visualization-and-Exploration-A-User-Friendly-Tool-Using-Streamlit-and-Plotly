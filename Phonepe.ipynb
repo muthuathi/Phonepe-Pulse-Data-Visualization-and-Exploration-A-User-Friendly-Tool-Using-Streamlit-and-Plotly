{
 "cells": [
  {
   "cell_type": "code",
   "execution_count": 3,
   "metadata": {},
   "outputs": [],
   "source": [
    "import os\n",
    "import json\n",
    "import pandas as pd\n",
    "import psycopg2\n",
    "import git"
   ]
  },
  {
   "cell_type": "code",
   "execution_count": 4,
   "metadata": {},
   "outputs": [],
   "source": [
    "#aggre transaction\n",
    "path1=\"C:/Users/Admin/Documents/PROJECT 2/pulse/data/aggregated/transaction/country/india/state/\"\n",
    "agg_tran_list = os.listdir(path1)\n",
    "\n",
    "\n",
    "columns1 ={\"States\":[], \"Years\":[], \"Quarter\":[], \"Transaction_type\":[], \"Transaction_count\":[],\"Transaction_amount\":[] }\n",
    "\n",
    "for state in agg_tran_list:\n",
    "    cur_states =path1+state+\"/\"\n",
    "    agg_year_list = os.listdir(cur_states)\n",
    "    \n",
    "    for year in agg_year_list:\n",
    "        cur_years = cur_states+year+\"/\"\n",
    "        agg_file_list = os.listdir(cur_years)\n",
    "\n",
    "        for file in agg_file_list:\n",
    "            cur_files = cur_years+file\n",
    "            data = open(cur_files,\"r\")\n",
    "            A = json.load(data)\n",
    "\n",
    "            for i in A[\"data\"][\"transactionData\"]:\n",
    "                name = i[\"name\"]\n",
    "                count = i[\"paymentInstruments\"][0][\"count\"]\n",
    "                amount = i[\"paymentInstruments\"][0][\"amount\"]\n",
    "                columns1[\"Transaction_type\"].append(name)\n",
    "                columns1[\"Transaction_count\"].append(count)\n",
    "                columns1[\"Transaction_amount\"].append(amount)\n",
    "                columns1[\"States\"].append(state)\n",
    "                columns1[\"Years\"].append(year)\n",
    "                columns1[\"Quarter\"].append(int(file.strip(\".json\")))\n",
    "\n",
    "agg_trans  = pd.DataFrame(columns1)\n"
   ]
  },
  {
   "cell_type": "code",
   "execution_count": 5,
   "metadata": {},
   "outputs": [
    {
     "data": {
      "text/plain": [
       "(4134, 6)"
      ]
     },
     "execution_count": 5,
     "metadata": {},
     "output_type": "execute_result"
    }
   ],
   "source": [
    "agg_trans .shape"
   ]
  },
  {
   "cell_type": "code",
   "execution_count": 6,
   "metadata": {},
   "outputs": [],
   "source": [
    "#aggre user\n",
    "path2=\"C:/Users/Admin/Documents/PROJECT 2/pulse/data/aggregated/user/country/india/state/\"\n",
    "agg_user_list = os.listdir(path2)\n",
    "\n",
    "\n",
    "columns2 ={\"States\":[], \"Years\":[], \"Quarter\":[], \"Brands\":[], \"Transaction_count\":[],\"Percentage\":[] }\n",
    "\n",
    "for state in agg_user_list:\n",
    "    cur_states =path2+state+\"/\"\n",
    "    agg_year_list = os.listdir(cur_states)\n",
    "    \n",
    "    for year in agg_year_list:\n",
    "        cur_years = cur_states+year+\"/\"\n",
    "        agg_file_list = os.listdir(cur_years)\n",
    "\n",
    "        for file in agg_file_list:\n",
    "            cur_files = cur_years+file\n",
    "            data = open(cur_files,\"r\")\n",
    "            B = json.load(data)\n",
    "\n",
    "            try:\n",
    "               for i in B[\"data\"][\"usersByDevice\"]:\n",
    "                    brand = i[\"brand\"]\n",
    "                    count = i[\"count\"]\n",
    "                    percentage = i[\"percentage\"]\n",
    "                    columns2[\"Brands\"].append(brand)\n",
    "                    columns2[\"Transaction_count\"].append(count)\n",
    "                    columns2[\"Percentage\"].append(percentage)\n",
    "                    columns2[\"States\"].append(state)\n",
    "                    columns2[\"Years\"].append(year)\n",
    "                    columns2[\"Quarter\"].append(int(file.strip(\".json\")))\n",
    "\n",
    "            except:\n",
    "                pass\n",
    "\n",
    "agg_user  = pd.DataFrame(columns2)\n"
   ]
  },
  {
   "cell_type": "code",
   "execution_count": 7,
   "metadata": {},
   "outputs": [
    {
     "data": {
      "text/plain": [
       "(6732, 6)"
      ]
     },
     "execution_count": 7,
     "metadata": {},
     "output_type": "execute_result"
    }
   ],
   "source": [
    "agg_user.shape"
   ]
  },
  {
   "cell_type": "code",
   "execution_count": 8,
   "metadata": {},
   "outputs": [],
   "source": [
    "#map transaction\n",
    "path3=\"C:/Users/Admin/Documents/PROJECT 2/pulse/data/map/transaction/hover/country/india/state/\"\n",
    "map_tran_list = os.listdir(path3)\n",
    "\n",
    "\n",
    "columns3 ={\"States\":[], \"Years\":[], \"Quarter\":[], \"Districts\":[], \"Transaction_count\":[],\"Transaction_amount\":[] }\n",
    "\n",
    "for state in map_tran_list:\n",
    "    cur_states =path3+state+\"/\"\n",
    "    agg_year_list = os.listdir(cur_states)\n",
    "    \n",
    "    for year in agg_year_list:\n",
    "        cur_years = cur_states+year+\"/\"\n",
    "        agg_file_list = os.listdir(cur_years)\n",
    "\n",
    "        for file in agg_file_list:\n",
    "            cur_files = cur_years+file\n",
    "            data = open(cur_files,\"r\")\n",
    "            C = json.load(data)\n",
    "            \n",
    "            for i in C[\"data\"][\"hoverDataList\"]:\n",
    "                    name = i[\"name\"]\n",
    "                    count = i[\"metric\"][0][\"count\"]\n",
    "                    amount = i[\"metric\"][0][\"amount\"]\n",
    "                    columns3[\"Districts\"].append(name)\n",
    "                    columns3[\"Transaction_count\"].append(count)\n",
    "                    columns3[\"Transaction_amount\"].append(amount)\n",
    "                    columns3[\"States\"].append(state)\n",
    "                    columns3[\"Years\"].append(year)\n",
    "                    columns3[\"Quarter\"].append(int(file.strip(\".json\")))\n",
    "\n",
    "map_trans =pd.DataFrame(columns3)\n"
   ]
  },
  {
   "cell_type": "code",
   "execution_count": 9,
   "metadata": {},
   "outputs": [
    {
     "data": {
      "text/plain": [
       "(16832, 6)"
      ]
     },
     "execution_count": 9,
     "metadata": {},
     "output_type": "execute_result"
    }
   ],
   "source": [
    "map_trans.shape"
   ]
  },
  {
   "cell_type": "code",
   "execution_count": 10,
   "metadata": {},
   "outputs": [],
   "source": [
    "#map user\n",
    "path4=\"C:/Users/Admin/Documents/PROJECT 2/pulse/data/map/user/hover/country/india/state/\"\n",
    "map_user_list = os.listdir(path4)\n",
    "\n",
    "\n",
    "columns4 ={\"States\":[], \"Years\":[], \"Quarter\":[], \"Districts\":[], \"RegisteredUsers\":[],\"AppOpens\":[] }\n",
    "\n",
    "for state in map_user_list:\n",
    "    cur_states =path4+state+\"/\"\n",
    "    agg_year_list = os.listdir(cur_states)\n",
    "    \n",
    "    for year in agg_year_list:\n",
    "        cur_years = cur_states+year+\"/\"\n",
    "        agg_file_list = os.listdir(cur_years)\n",
    "\n",
    "        for file in agg_file_list:\n",
    "            cur_files = cur_years+file\n",
    "            data = open(cur_files,\"r\")\n",
    "            D = json.load(data)\n",
    "            \n",
    "            for i in D[\"data\"][\"hoverData\"].items():\n",
    "                District = i[0]\n",
    "                registeredUsers = i[1][\"registeredUsers\"]\n",
    "                appOpens = i[1][\"appOpens\"]\n",
    "                columns4[\"Districts\"].append(District)\n",
    "                columns4[\"RegisteredUsers\"].append(registeredUsers)\n",
    "                columns4[\"AppOpens\"].append(appOpens)\n",
    "                columns4[\"States\"].append(state)\n",
    "                columns4[\"Years\"].append(year)\n",
    "                columns4[\"Quarter\"].append(int(file.strip(\".json\")))\n",
    "map_user =pd.DataFrame(columns4)  \n"
   ]
  },
  {
   "cell_type": "code",
   "execution_count": 11,
   "metadata": {},
   "outputs": [
    {
     "data": {
      "text/plain": [
       "(16836, 6)"
      ]
     },
     "execution_count": 11,
     "metadata": {},
     "output_type": "execute_result"
    }
   ],
   "source": [
    "map_user.shape"
   ]
  },
  {
   "cell_type": "code",
   "execution_count": 12,
   "metadata": {},
   "outputs": [],
   "source": [
    "#top_transaction\n",
    "path5 = \"C:/Users/Admin/Documents/PROJECT 2/pulse/data/top/Transaction/country/india/state/\"\n",
    "top_tran_list = os.listdir(path5)\n",
    "\n",
    "columns5 = {\"States\":[], \"Years\":[], \"Quarter\":[], \"Pincodes\":[], \"Transaction_count\":[], \"Transaction_amount\":[]}\n",
    "\n",
    "for state in top_tran_list:\n",
    "    cur_states = path5+state+\"/\"\n",
    "    top_year_list = os.listdir(cur_states)\n",
    "    \n",
    "    for year in top_year_list:\n",
    "        cur_years = cur_states+year+\"/\"\n",
    "        top_file_list = os.listdir(cur_years)\n",
    "        \n",
    "        for file in top_file_list:\n",
    "            cur_files = cur_years+file\n",
    "            data = open(cur_files,\"r\")\n",
    "            E = json.load(data)\n",
    "\n",
    "            for i in E[\"data\"][\"pincodes\"]:\n",
    "                entityName = i[\"entityName\"]\n",
    "                count = i[\"metric\"][\"count\"]\n",
    "                amount = i[\"metric\"][\"amount\"]\n",
    "                columns5[\"Pincodes\"].append(entityName)\n",
    "                columns5[\"Transaction_count\"].append(count)\n",
    "                columns5[\"Transaction_amount\"].append(amount)\n",
    "                columns5[\"States\"].append(state)\n",
    "                columns5[\"Years\"].append(year)\n",
    "                columns5[\"Quarter\"].append(int(file.strip(\".json\")))\n",
    "top_trans  = pd.DataFrame(columns5)"
   ]
  },
  {
   "cell_type": "code",
   "execution_count": 13,
   "metadata": {},
   "outputs": [
    {
     "data": {
      "text/plain": [
       "(8210, 6)"
      ]
     },
     "execution_count": 13,
     "metadata": {},
     "output_type": "execute_result"
    }
   ],
   "source": [
    "top_trans .shape"
   ]
  },
  {
   "cell_type": "code",
   "execution_count": 14,
   "metadata": {},
   "outputs": [],
   "source": [
    "#top_user\n",
    "path6 = \"C:/Users/Admin/Documents/PROJECT 2/pulse/data/top/user/country/india/state/\"\n",
    "top_user_list = os.listdir(path6)\n",
    "\n",
    "columns6 = {\"States\":[], \"Years\":[], \"Quarter\":[], \"Pincodes\":[], \"RegisteredUser\":[]}\n",
    "\n",
    "for state in top_user_list:\n",
    "    cur_states = path6+state+\"/\"\n",
    "    top_year_list = os.listdir(cur_states)\n",
    "\n",
    "    for year in top_year_list:\n",
    "        cur_years = cur_states+year+\"/\"\n",
    "        top_file_list = os.listdir(cur_years)\n",
    "\n",
    "        for file in top_file_list:\n",
    "            cur_files = cur_years+file\n",
    "            data = open(cur_files,\"r\")\n",
    "            F = json.load(data)\n",
    "\n",
    "            for i in F[\"data\"][\"pincodes\"]:\n",
    "                name = i[\"name\"]\n",
    "                registeredusers = i[\"registeredUsers\"]\n",
    "                columns6[\"Pincodes\"].append(name)\n",
    "                columns6[\"RegisteredUser\"].append(registeredusers)\n",
    "                columns6[\"States\"].append(state)\n",
    "                columns6[\"Years\"].append(year)\n",
    "                columns6[\"Quarter\"].append(int(file.strip(\".json\")))\n",
    "\n",
    "top_user = pd.DataFrame(columns6)"
   ]
  },
  {
   "cell_type": "code",
   "execution_count": 15,
   "metadata": {},
   "outputs": [
    {
     "data": {
      "text/plain": [
       "(8211, 5)"
      ]
     },
     "execution_count": 15,
     "metadata": {},
     "output_type": "execute_result"
    }
   ],
   "source": [
    "top_user.shape"
   ]
  },
  {
   "cell_type": "code",
   "execution_count": 16,
   "metadata": {},
   "outputs": [],
   "source": [
    "# Coverting Data frames to csv files\n",
    "agg_trans.to_csv('agg_trans.csv',index=False)\n",
    "agg_user.to_csv('agg_user.csv',index=False)\n",
    "map_trans.to_csv('map_trans.csv',index=False)\n",
    "map_user.to_csv('map_user.csv',index=False)\n",
    "top_trans.to_csv('top_trans.csv',index=False)\n",
    "top_user.to_csv('top_user.csv',index=False)"
   ]
  },
  {
   "cell_type": "code",
   "execution_count": 17,
   "metadata": {},
   "outputs": [],
   "source": [
    "#Table Creation\n",
    "#pgsql connection\n",
    "mydb = psycopg2.connect(host = \"localhost\",\n",
    "                        user = \"postgres\",\n",
    "                        password = \"Admin\",\n",
    "                        database = \"phonepe_data\",\n",
    "                        port = \"5432\"\n",
    "                        )\n",
    "cursor = mydb.cursor()"
   ]
  },
  {
   "cell_type": "code",
   "execution_count": 18,
   "metadata": {},
   "outputs": [],
   "source": [
    "#aggregated transaction table\n",
    "create_query1 = '''CREATE TABLE if not exists aggregated_transaction (States varchar(50),\n",
    "                                                                      Years int,\n",
    "                                                                      Quarter int,\n",
    "                                                                      Transaction_type varchar(50),\n",
    "                                                                      Transaction_count bigint,\n",
    "                                                                      Transaction_amount bigint\n",
    "                                                                      )'''\n",
    "cursor.execute(create_query1)\n",
    "mydb.commit()\n",
    "\n",
    "for index,row in agg_trans.iterrows():\n",
    "    insert_query1 = '''INSERT INTO aggregated_transaction (States, Years, Quarter, Transaction_type, Transaction_count, Transaction_amount)\n",
    "                                                        values(%s,%s,%s,%s,%s,%s)'''\n",
    "    values = (row[\"States\"],\n",
    "              row[\"Years\"],\n",
    "              row[\"Quarter\"],\n",
    "              row[\"Transaction_type\"],\n",
    "              row[\"Transaction_count\"],\n",
    "              row[\"Transaction_amount\"]\n",
    "              )\n",
    "    cursor.execute(insert_query1,values)\n",
    "    mydb.commit()\n"
   ]
  },
  {
   "cell_type": "code",
   "execution_count": 19,
   "metadata": {},
   "outputs": [],
   "source": [
    "#aggregated user table\n",
    "create_query2 = '''CREATE TABLE if not exists aggregated_user (States varchar(50),\n",
    "                                                                Years int,\n",
    "                                                                Quarter int,\n",
    "                                                                Brands varchar(50),\n",
    "                                                                Transaction_count bigint,\n",
    "                                                                Percentage float)'''\n",
    "cursor.execute(create_query2)\n",
    "mydb.commit()\n",
    "\n",
    "for index,row in agg_user.iterrows():\n",
    "    insert_query2 = '''INSERT INTO aggregated_user (States, \n",
    "                                                    Years, \n",
    "                                                    Quarter, \n",
    "                                                    Brands, \n",
    "                                                    Transaction_count, \n",
    "                                                    Percentage)\n",
    "\n",
    "                                                \n",
    "                                                    values(%s,%s,%s,%s,%s,%s)'''\n",
    "    values = (row[\"States\"],\n",
    "              row[\"Years\"],\n",
    "              row[\"Quarter\"],\n",
    "              row[\"Brands\"],\n",
    "              row[\"Transaction_count\"],\n",
    "              row[\"Percentage\"])\n",
    "    cursor.execute(insert_query2,values)\n",
    "    mydb.commit()"
   ]
  },
  {
   "cell_type": "code",
   "execution_count": 20,
   "metadata": {},
   "outputs": [],
   "source": [
    "#map_transaction_table\n",
    "create_query3 = '''CREATE TABLE if not exists map_transaction (States varchar(50),\n",
    "                                                                Years int,\n",
    "                                                                Quarter int,\n",
    "                                                                Districts varchar(50),\n",
    "                                                                Transaction_count bigint,\n",
    "                                                                Transaction_amount float)'''\n",
    "cursor.execute(create_query3)\n",
    "mydb.commit()\n",
    "\n",
    "for index,row in map_trans.iterrows():\n",
    "            insert_query3 = '''\n",
    "                INSERT INTO map_Transaction (States, Years, Quarter, Districts, Transaction_count, Transaction_amount)\n",
    "                VALUES (%s, %s, %s, %s, %s, %s)\n",
    "\n",
    "            '''\n",
    "            values = (\n",
    "                row['States'],\n",
    "                row['Years'],\n",
    "                row['Quarter'],\n",
    "                row['Districts'],\n",
    "                row['Transaction_count'],\n",
    "                row['Transaction_amount']\n",
    "            )\n",
    "            cursor.execute(insert_query3,values)\n",
    "            mydb.commit() "
   ]
  },
  {
   "cell_type": "code",
   "execution_count": 21,
   "metadata": {},
   "outputs": [],
   "source": [
    "#map_user_table\n",
    "create_query4 = '''CREATE TABLE if not exists map_user (States varchar(50),\n",
    "                                                        Years int,\n",
    "                                                        Quarter int,\n",
    "                                                        Districts varchar(50),\n",
    "                                                        RegisteredUsers bigint,\n",
    "                                                        AppOpens bigint)'''\n",
    "cursor.execute(create_query4)\n",
    "mydb.commit()\n",
    "\n",
    "for index,row in map_user.iterrows():\n",
    "    insert_query4 = '''INSERT INTO map_user (States, Years, Quarter, Districts, RegisteredUsers, AppOpens)\n",
    "                        values(%s,%s,%s,%s,%s,%s)'''\n",
    "    values = (row[\"States\"],\n",
    "              row[\"Years\"],\n",
    "              row[\"Quarter\"],\n",
    "              row[\"Districts\"],\n",
    "              row[\"RegisteredUsers\"],\n",
    "              row[\"AppOpens\"])\n",
    "    cursor.execute(insert_query4,values)\n",
    "    mydb.commit()\n"
   ]
  },
  {
   "cell_type": "code",
   "execution_count": 22,
   "metadata": {},
   "outputs": [],
   "source": [
    "#top_transaction_table\n",
    "create_query5 = '''CREATE TABLE if not exists top_transaction (States varchar(50),\n",
    "                                                                Years int,\n",
    "                                                                Quarter int,\n",
    "                                                                pincodes int,\n",
    "                                                                Transaction_count bigint,\n",
    "                                                                Transaction_amount bigint)'''\n",
    "cursor.execute(create_query5)\n",
    "mydb.commit()\n",
    "\n",
    "for index,row in top_trans.iterrows():\n",
    "    insert_query5 = '''INSERT INTO top_transaction (States, Years, Quarter, Pincodes, Transaction_count, Transaction_amount)\n",
    "                                                    values(%s,%s,%s,%s,%s,%s)'''\n",
    "    values = (row[\"States\"],\n",
    "              row[\"Years\"],\n",
    "              row[\"Quarter\"],\n",
    "              row[\"Pincodes\"],\n",
    "              row[\"Transaction_count\"],\n",
    "              row[\"Transaction_amount\"])\n",
    "    cursor.execute(insert_query5,values)\n",
    "    mydb.commit()\n"
   ]
  },
  {
   "cell_type": "code",
   "execution_count": 23,
   "metadata": {},
   "outputs": [],
   "source": [
    "#top_user_table\n",
    "create_query6 = '''CREATE TABLE if not exists top_user (States varchar(50),\n",
    "                                                        Years int,\n",
    "                                                        Quarter int,\n",
    "                                                        Pincodes int,\n",
    "                                                        RegisteredUser bigint\n",
    "                                                        )'''\n",
    "cursor.execute(create_query6)\n",
    "mydb.commit()\n",
    "\n",
    "for index,row in top_user.iterrows():\n",
    "    insert_query6 = '''INSERT INTO top_user (States, Years, Quarter, Pincodes, RegisteredUser)\n",
    "                                            values(%s,%s,%s,%s,%s)'''\n",
    "    values = (row[\"States\"],\n",
    "              row[\"Years\"],\n",
    "              row[\"Quarter\"],\n",
    "              row[\"Pincodes\"],\n",
    "              row[\"RegisteredUser\"])\n",
    "    cursor.execute(insert_query6,values)\n",
    "    mydb.commit()"
   ]
  },
  {
   "cell_type": "code",
   "execution_count": 26,
   "metadata": {},
   "outputs": [
    {
     "name": "stdout",
     "output_type": "stream",
     "text": [
      "[('aggregated_transaction',), ('aggregated_user',), ('map_transaction',), ('map_user',), ('top_transaction',), ('top_user',)]\n"
     ]
    }
   ],
   "source": [
    "# Establish a connection to the PostgreSQL database\n",
    "mydb = psycopg2.connect(\n",
    "    host=\"localhost\",\n",
    "    user=\"postgres\",\n",
    "    password=\"Admin\",\n",
    "    database=\"phonepe_data\",\n",
    "    port=\"5432\"\n",
    ")\n",
    "\n",
    "# Create a cursor object\n",
    "cursor = mydb.cursor()\n",
    "\n",
    "# Query to fetch a list of tables\n",
    "cursor.execute(\"SELECT table_name FROM information_schema.tables WHERE table_schema = 'public' AND table_type = 'BASE TABLE'\")\n",
    "\n",
    "# Fetch all the table names\n",
    "table_list = cursor.fetchall()\n",
    "\n",
    "# Print the list of tables\n",
    "print(table_list)\n",
    "\n",
    "# Close the cursor and the database connection\n",
    "cursor.close()\n",
    "mydb.close()\n"
   ]
  }
 ],
 "metadata": {
  "kernelspec": {
   "display_name": "Python 3",
   "language": "python",
   "name": "python3"
  },
  "language_info": {
   "codemirror_mode": {
    "name": "ipython",
    "version": 3
   },
   "file_extension": ".py",
   "mimetype": "text/x-python",
   "name": "python",
   "nbconvert_exporter": "python",
   "pygments_lexer": "ipython3",
   "version": "3.12.0"
  }
 },
 "nbformat": 4,
 "nbformat_minor": 2
}
